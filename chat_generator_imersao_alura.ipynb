{
  "nbformat": 4,
  "nbformat_minor": 0,
  "metadata": {
    "colab": {
      "provenance": [],
      "authorship_tag": "ABX9TyPDLb4tkRsk8ACNxRCavmrK",
      "include_colab_link": true
    },
    "kernelspec": {
      "name": "python3",
      "display_name": "Python 3"
    },
    "language_info": {
      "name": "python"
    }
  },
  "cells": [
    {
      "cell_type": "markdown",
      "metadata": {
        "id": "view-in-github",
        "colab_type": "text"
      },
      "source": [
        "<a href=\"https://colab.research.google.com/github/thazsobral/chat-generator-imersao-alura/blob/main/chat_generator_imersao_alura.ipynb\" target=\"_parent\"><img src=\"https://colab.research.google.com/assets/colab-badge.svg\" alt=\"Open In Colab\"/></a>"
      ]
    },
    {
      "cell_type": "markdown",
      "source": [
        "Instalar as dependencias iniciais"
      ],
      "metadata": {
        "id": "LLRnTFjwit10"
      }
    },
    {
      "cell_type": "code",
      "execution_count": null,
      "metadata": {
        "id": "xq4GBCgLiTi-"
      },
      "outputs": [],
      "source": [
        "!pip install -q -U google-generativeai"
      ]
    },
    {
      "cell_type": "code",
      "source": [
        "import google.generativeai as genai\n",
        "\n",
        "from google.colab import userdata\n",
        "\n",
        "GOOGLE_API_KEY=userdata.get(\"GOOGLE_API_KEY\")\n",
        "genai.configure(api_key=GOOGLE_API_KEY)"
      ],
      "metadata": {
        "id": "Sxo0fKmhikou"
      },
      "execution_count": null,
      "outputs": []
    },
    {
      "cell_type": "markdown",
      "source": [
        "Configuração do modelo"
      ],
      "metadata": {
        "id": "3Zrnw8lwmdSr"
      }
    },
    {
      "cell_type": "code",
      "source": [
        "generation_config = {\n",
        "    \"candidate_count\": 1,\n",
        "    \"temperature\": 0,\n",
        "}"
      ],
      "metadata": {
        "id": "IldeKi1glmLt"
      },
      "execution_count": null,
      "outputs": []
    },
    {
      "cell_type": "code",
      "source": [
        "safety_settings = {\n",
        "    \"HARASSMENT\": \"BLOCK_NONE\",\n",
        "    \"HATE\": \"BLOCK_NONE\",\n",
        "    \"SEXUAL\": \"BLOCK_NONE\",\n",
        "    \"DANGEROUS\": \"BLOCK_NONE\",\n",
        "}"
      ],
      "metadata": {
        "id": "dhkBteNxl4JV"
      },
      "execution_count": null,
      "outputs": []
    },
    {
      "cell_type": "code",
      "source": [
        "model_name = \"gemini-1.0-pro\"\n",
        "model = genai.GenerativeModel(model_name=model_name,\n",
        "                              generation_config=generation_config,\n",
        "                              safety_settings=safety_settings)"
      ],
      "metadata": {
        "id": "4OI28UotmpUZ"
      },
      "execution_count": null,
      "outputs": []
    },
    {
      "cell_type": "markdown",
      "source": [
        "# Qual o desafio ?\n",
        "  - O que você quiser, mas ...\n",
        "  ## As Regras:\n",
        "  - **Desenvolva um Projeto Relacionado à Aula 4 e/ou Aula 5 da Imersão IA 2ª Edição**: O projeto deve estar relacionado ao conteúdo da Aula 4 e/ou Aula 5 da Imersão IA 2ª edição, organizada pela Alura em parceria com o Google. Por exemplo: chat-bot, gerador de conteúdo, etc;\n",
        "  - **Pode enviar quantos projetos quiser**: contendo seu nome completo, e-mail e github (onde deve estar seu projeto).\n",
        "  ## Os critérios de são de avaliação:\n",
        "  - **Uso Obrigatório da API Key do Google**: É obrigatório o uso da API Key do Google.\n",
        "  - **Publicação do Projeto no GitHub**: O projeto deve ser publicado no GitHub. Se precisar de ajuda para subir seu projeto, confira o tutorial aqui.\n",
        "  - **Submissão do Projeto**: A submissão do projeto deve ser feita através deste formulário entre os dias 09/05 e 11/05, até as 23h59.\n",
        "  - **Publicação e Votação no Discord**: O projeto será publicado no Servidor do Discord da Imersão IA 2024 para votação pela comunidade até 11/05, às 23h59.\n",
        "  A votação acontece no canal \"#Votação\". Dê estrelas no projeto que você mais gostou e conecte-se com outras pessoas para incentivá-las a votar no seu projeto.\n",
        "  - **Avaliação pela Banca da Alura**: Uma banca da Alura irá avaliar os 30 projetos mais votados para eleger os 10 primeiros colocados com base nos seguintes critérios:\n",
        "    - Utilidade do projeto (se gera valor).\n",
        "    - Criatividade (use a abuse da API).\n",
        "    - Eficácia (se o seu projeto realmente resolve o problema).\n",
        "    - Apresentação (deixe seu projeto aprensetável).\n",
        "    - Ordem de envio (quem chegar primeiro, vence!).\n",
        "  - **Anúncio dos Vencedores**: O ranking final será divulgado na live de encerramento no YouTube no dia 13/05 às 18h30. Também será divulgado por e-mail para os vencedores e no Guia de mergulho."
      ],
      "metadata": {
        "id": "mDmAGiy4sfHU"
      }
    },
    {
      "cell_type": "code",
      "source": [
        "chat = model.start_chat(history=[])"
      ],
      "metadata": {
        "id": "LnAYsom_0vbH"
      },
      "execution_count": null,
      "outputs": []
    },
    {
      "cell_type": "code",
      "source": [
        "# chatbot gera dados de exemplos em diversos formatos\n",
        "# recebe a pergunta\n",
        "lengthDiv = 200\n",
        "fields = \"\"\n",
        "while fields != \"fim\":\n",
        "  print(\"-\"*lengthDiv)\n",
        "  print(\"-- Para sair digite 'fim'\")\n",
        "  fields = input(\"Quais os nomes dos campos que você quer gerar?: \")\n",
        "  if fields != \"fim\":\n",
        "    numbers = input(\"Qual a quantidade de exemplos você precisa?: \")\n",
        "    format = input(\"Qual o formato de saída?: \")\n",
        "    print(\"-\"*lengthDiv)\n",
        "    response = chat.send_message(f'''\n",
        "      Gere no formato: {format};\n",
        "      {numbers} exemplos de dados dos seguintes campos {fields};\n",
        "      - obs: se o formato escolhido for SQL, devolva um comando de INSERT.\n",
        "      - não interaja somente responda os dados solicitados\n",
        "    ''')\n",
        "    # devolver a resposta\n",
        "    print(\"Chat Generator:\", response.text,\"\\n\")\n",
        "    print(\"-\"*lengthDiv)\n",
        "  else:\n",
        "    print(f\"\\nFico feliz em ajudar 😁.\\nVolte sempre que precisar.\")"
      ],
      "metadata": {
        "colab": {
          "base_uri": "https://localhost:8080/",
          "height": 646
        },
        "id": "pjtgsS6dy7Wv",
        "outputId": "97dd8697-5a65-4ea6-bfa2-17a52328877d"
      },
      "execution_count": null,
      "outputs": [
        {
          "output_type": "stream",
          "name": "stdout",
          "text": [
            "--------------------------------------------------------------------------------------------------------------------------------------------------------------------------------------------------------\n",
            "-- Para sair digite 'fim'\n",
            "Quais os nomes dos campos que você quer gerar?: nome, sobrenome, idade\n",
            "Qual a quantidade de exemplos você precisa?: 3\n",
            "Qual o formato de saída?: SQL\n",
            "--------------------------------------------------------------------------------------------------------------------------------------------------------------------------------------------------------\n",
            "Chat Generator: ```sql\n",
            "INSERT INTO pessoas (nome, sobrenome, idade) VALUES ('João', 'Silva', 25);\n",
            "INSERT INTO pessoas (nome, sobrenome, idade) VALUES ('Maria', 'Souza', 30);\n",
            "INSERT INTO pessoas (nome, sobrenome, idade) VALUES ('Pedro', 'Oliveira', 35);\n",
            "``` \n",
            "\n",
            "--------------------------------------------------------------------------------------------------------------------------------------------------------------------------------------------------------\n",
            "--------------------------------------------------------------------------------------------------------------------------------------------------------------------------------------------------------\n",
            "-- Para sair digite 'fim'\n",
            "Quais os nomes dos campos que você quer gerar?: sim\n",
            "Qual a quantidade de exemplos você precisa?: quatro\n",
            "Qual o formato de saída?: Java\n",
            "--------------------------------------------------------------------------------------------------------------------------------------------------------------------------------------------------------\n",
            "Chat Generator: ```java\n",
            "boolean sim1 = true;\n",
            "boolean sim2 = true;\n",
            "boolean sim3 = true;\n",
            "boolean sim4 = true;\n",
            "``` \n",
            "\n",
            "--------------------------------------------------------------------------------------------------------------------------------------------------------------------------------------------------------\n",
            "--------------------------------------------------------------------------------------------------------------------------------------------------------------------------------------------------------\n",
            "-- Para sair digite 'fim'\n",
            "Quais os nomes dos campos que você quer gerar?: fim\n",
            "\n",
            "Fico feliz em ajudar 😁.\n",
            "Volte sempre que precisar.\n"
          ]
        }
      ]
    }
  ]
}